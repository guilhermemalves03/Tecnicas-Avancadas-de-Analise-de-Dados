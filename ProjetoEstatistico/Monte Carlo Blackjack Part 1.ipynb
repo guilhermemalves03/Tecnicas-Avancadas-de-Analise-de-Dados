{
 "cells": [
  {
   "cell_type": "markdown",
   "metadata": {},
   "source": [
    "# Introduction\n"
   ]
  },
  {
   "cell_type": "markdown",
   "metadata": {},
   "source": [
    "\n",
    "In this Monte Carlo analysis, our main objective is to demonstrate how the Monte Carlo method can be applied to simulate complex games like Blackjack and extract meaningful statistical insights from repeated trials.\n",
    "\n",
    "To achieve this, we define the game rules and the dealer’s policy, which follows a standard deterministic behavior (drawing until reaching 17). We then implement different player strategies, in  this case, 2 discrete rule-based policies, to represent distinct decision-making approaches during gameplay.\n",
    "\n",
    "By running thousands of simulated rounds, we can observe the average net profit and distribution of outcomes (wins, ties, and losses) for each strategy. This approach is particularly valuable because it allows us to assess performance in situations where analytical computation of probabilities is extremely complex. Moreover, it provides a foundation for training AI agents to autonomously learn and refine optimal Blackjack strategies.\n",
    "\n"
   ]
  },
  {
   "cell_type": "markdown",
   "metadata": {},
   "source": [
    "# Set up the game."
   ]
  },
  {
   "cell_type": "markdown",
   "metadata": {},
   "source": [
    "### Blackjack Game Description (Simplified Version)\n",
    "\n",
    "Blackjack is a card game played between a player and a dealer. The goal is to reach a hand value as close as possible to 21 points without exceeding it.  \n",
    "\n",
    "---\n",
    "\n",
    "**Card Values**\n",
    "- Cards 2–10 are worth their face value.  \n",
    "- Jack, Queen and King are each worth 10 points  \n",
    "- The Ace can count as 1 or 11 whichever benefits the player more.  \n",
    "\n",
    "---\n",
    "\n",
    "**Game Rules**\n",
    "1. Both the player and the dealer start with two cards. The dealer shows one card face up and keeps the other face down.  \n",
    "2. The player can:\n",
    "   - Hit → take another card to increase their total.  \n",
    "   - Stand → keep their current hand and end their turn.  \n",
    "3. If the player’s total exceeds 21 they bust and lose the round.  \n",
    "4. After the player finishes, the dealer reveals their hidden card and must hit until reaching at least 17 points  \n",
    "5. The round outcome is decided as follows:\n",
    "   - Player busts → loss  \n",
    "   - Dealer busts → win  \n",
    "   - Neither busts → closest to 21 wins  \n",
    "   - Equal totals → tie   \n",
    "\n",
    "---\n",
    "\n",
    "**Payout Rules**\n",
    "In this simplified version (no splitting, insurance, or double down):  \n",
    "- Win: +\\$100  \n",
    "- Loss: −\\$100  \n",
    "- Tie: no change  \n",
    "\n",
    "\n"
   ]
  },
  {
   "cell_type": "markdown",
   "metadata": {},
   "source": [
    "Define the rank and suit of a card."
   ]
  },
  {
   "cell_type": "code",
   "execution_count": null,
   "metadata": {
    "scrolled": true
   },
   "outputs": [],
   "source": [
    "import matplotlib.pyplot as plt\n",
    "import pandas as pd\n",
    "import random\n",
    "\n",
    "import enum\n",
    "\n",
    "ranks = {\n",
    "    \"two\" : 2,\n",
    "    \"three\" : 3,\n",
    "    \"four\" : 4,\n",
    "    \"five\" : 5,\n",
    "    \"six\" : 6,\n",
    "    \"seven\" : 7,\n",
    "    \"eight\" : 8,\n",
    "    \"nine\" : 9,\n",
    "    \"ten\" : 10,\n",
    "    \"jack\" : 10,\n",
    "    \"queen\" : 10,\n",
    "    \"king\" : 10,\n",
    "    \"ace\" : (1, 11)\n",
    "}\n",
    "    \n",
    "class Suit(enum.Enum):\n",
    "    spades = \"spades\"\n",
    "    clubs = \"clubs\"\n",
    "    diamonds = \"diamonds\"\n",
    "    hearts = \"hearts\""
   ]
  },
  {
   "cell_type": "markdown",
   "metadata": {},
   "source": [
    "Define a card and a deck.\n",
    "\n",
    "Implement shuffle, peek, & deal functions for the deck."
   ]
  },
  {
   "cell_type": "code",
   "execution_count": 3,
   "metadata": {
    "scrolled": true
   },
   "outputs": [],
   "source": [
    "class Card:\n",
    "    def __init__(self, suit, rank, value):\n",
    "        self.suit = suit\n",
    "        self.rank = rank\n",
    "        self.value = value\n",
    "        \n",
    "    def __str__(self):\n",
    "        return self.rank + \" of \" + self.suit.value\n",
    "\n",
    "class Deck:\n",
    "    def __init__(self, num=1):\n",
    "        self.cards = []\n",
    "        for i in range(num):\n",
    "            for suit in Suit:\n",
    "                for rank, value in ranks.items():\n",
    "                    self.cards.append(Card(suit, rank, value))\n",
    "                \n",
    "    def shuffle(self):\n",
    "        random.shuffle(self.cards)\n",
    "        \n",
    "    def deal(self):\n",
    "        return self.cards.pop(0)\n",
    "    \n",
    "    def peek(self):\n",
    "        if len(self.cards) > 0:\n",
    "            return self.cards[0]\n",
    "        \n",
    "    def add_to_bottom(self, card):\n",
    "        self.cards.append(card)\n",
    "        \n",
    "    def __str__(self):\n",
    "        result = \"\"\n",
    "        for card in self.cards:\n",
    "            result += str(card) + \"\\n\"\n",
    "        return result\n",
    "    \n",
    "    def __len__(self):\n",
    "        return len(self.cards)"
   ]
  },
  {
   "cell_type": "markdown",
   "metadata": {},
   "source": [
    " **Set up Blackjack**"
   ]
  },
  {
   "cell_type": "markdown",
   "metadata": {},
   "source": [
    "### Define logic for evaluating the value of the dealer's hand.\n",
    "\n",
    "Trickiest part is defining the logic for Aces.\n",
    "\n",
    "_Dealer Logic will not change much! They must follow a set, predictable course of action._"
   ]
  },
  {
   "cell_type": "code",
   "execution_count": 4,
   "metadata": {},
   "outputs": [],
   "source": [
    "# This follows the same, official rules every time.\n",
    "# Still need to figure out what happens if there are multiple Aces.\n",
    "def dealer_eval(player_hand):\n",
    "    num_ace = 0\n",
    "    use_one = 0\n",
    "    for card in player_hand:\n",
    "        if card.rank == \"ace\":\n",
    "            num_ace += 1\n",
    "            use_one += card.value[0] # use 1 for Ace\n",
    "        else:\n",
    "            use_one += card.value\n",
    "    \n",
    "    if num_ace > 0:\n",
    "        # See if using 11 instead of 1 for the Aces gets the \n",
    "        # dealer's hand value closer to the [17, 21] range\n",
    "        \n",
    "        # The dealer will follow Hard 17 rules.\n",
    "        # This means the dealer will not hit again if\n",
    "        # the Ace yields a 17. \n",
    "        \n",
    "        # This also means that Aces initially declared as 11's can\n",
    "        # be changed to 1's as new cards come.\n",
    "        \n",
    "        ace_counter = 0\n",
    "        while ace_counter < num_ace:\n",
    "            # Only add by 10 b/c 1 is already added before\n",
    "            use_eleven = use_one + 10 \n",
    "            \n",
    "            if use_eleven > 21:\n",
    "                return use_one\n",
    "            elif use_eleven >= 17 and use_eleven <= 21:\n",
    "                return use_eleven\n",
    "            else:\n",
    "                # The case where even using Ace as eleven is less than 17.\n",
    "                use_one = use_eleven\n",
    "            \n",
    "            ace_counter += 1\n",
    "        \n",
    "        return use_one\n",
    "    else:\n",
    "        return use_one"
   ]
  },
  {
   "cell_type": "markdown",
   "metadata": {},
   "source": [
    "### Define logic for evaluating the value of the player's hand.\n",
    "\n",
    "Trickiest part is defining the logic for Aces. This logic can be implemented in different ways. I opted for an approach that tries to use an Ace as an 11 whenever possible, and only uses the Ace as a 1 when the alternative would make the player bust."
   ]
  },
  {
   "cell_type": "code",
   "execution_count": 7,
   "metadata": {},
   "outputs": [],
   "source": [
    "def player_eval(player_hand):\n",
    "    num_ace = 0\n",
    "    # use_one means that every ace that in the hand is counted as one.\n",
    "    use_one = 0\n",
    "    for card in player_hand:\n",
    "        if card.rank == \"ace\":\n",
    "            num_ace += 1\n",
    "            use_one += card.value[0] # use 1 for Ace\n",
    "        else:\n",
    "            use_one += card.value\n",
    "    \n",
    "    if num_ace > 0:\n",
    "        # Define player policy for Aces:\n",
    "        # Make Aces 11 if they get you to the range [18,21]\n",
    "        # Otherwise, use one.\n",
    "        \n",
    "        ace_counter = 0\n",
    "        while ace_counter < num_ace:\n",
    "            # Only add by 10 b/c 1 is already added before\n",
    "            use_eleven = use_one + 10 \n",
    "            \n",
    "            if use_eleven > 21:\n",
    "                return use_one\n",
    "            elif use_eleven >= 18 and use_eleven <= 21:\n",
    "                return use_eleven\n",
    "            else:\n",
    "                # This allows for some Aces to be 11s, and others to be 1.\n",
    "                use_one = use_eleven\n",
    "            \n",
    "            ace_counter += 1\n",
    "        \n",
    "        return use_one\n",
    "    else:\n",
    "        return use_one"
   ]
  },
  {
   "cell_type": "markdown",
   "metadata": {},
   "source": [
    "### Define logic for the dealer's turn.\n",
    "\n",
    "This will not change much since the dealer has to follow a defined protocol when making their moves( the dealer keeps hitting until his total is 17 or more)"
   ]
  },
  {
   "cell_type": "code",
   "execution_count": 8,
   "metadata": {},
   "outputs": [],
   "source": [
    "def dealer_turn(dealer_hand, deck):\n",
    "    # Calculate dealer hand's value.\n",
    "    dealer_value = dealer_eval(dealer_hand)\n",
    "\n",
    "    # Define dealer policy (is fixed to official rules)\n",
    "\n",
    "    # The dealer keeps hitting until their total is 17 or more\n",
    "    while dealer_value < 17:\n",
    "        # hit\n",
    "        dealer_hand.append(deck.deal())\n",
    "        dealer_value = dealer_eval(dealer_hand)\n",
    "\n",
    "    return dealer_value, dealer_hand, deck"
   ]
  },
  {
   "cell_type": "markdown",
   "metadata": {},
   "source": [
    "### Main Blackjack play_game() function.\n",
    "\n",
    "Can use higher-order functions functionality to pick which player policy to use."
   ]
  },
  {
   "cell_type": "code",
   "execution_count": null,
   "metadata": {},
   "outputs": [],
   "source": [
    "def play_game(player_policy, num_decks = 2, start_cash = 10000000, num_rounds = 100):\n",
    "    # Our Blackjack deck will be made of 2 normal decks by default.\n",
    "    bj_deck = Deck(num_decks)\n",
    "\n",
    "    # Shuffle before beginning. Only shuffle once before the start of each game.\n",
    "    bj_deck.shuffle()\n",
    "    \n",
    "    # Keeps track of rewards/punishments. Also allows game to end before num_rounds.\n",
    "    player_cash = start_cash\n",
    "    wins=0\n",
    "    losses=0\n",
    "    ties=0\n",
    "    rounds_played = 0\n",
    "    \n",
    "    while rounds_played < num_rounds and player_cash > 0:\n",
    "        # Assume player bets 100 each round.\n",
    "        # Gains 100 for winning round.\n",
    "        # Loses 100 for losing round.\n",
    "        # Nothing happens if tie. (Needs to change when actually training, so that agent tries to win more than tie.)\n",
    "        bet=100\n",
    "        \n",
    "        player_hand = [bj_deck.deal(), bj_deck.deal()]\n",
    "        dealer_hand = [bj_deck.deal(), bj_deck.deal()]\n",
    "        \n",
    "        # The current policy does not care about dealer's upcard.\n",
    "        #dealer_upcard = dealer_hand[0]\n",
    "        \n",
    "        ## Begin player turn phase.\n",
    "        \n",
    "        player_value, player_hand, bj_deck = player_policy(player_hand, bj_deck)\n",
    "            \n",
    "        ## Player turn phase over.\n",
    "        \n",
    "        #--------------------------------------------------------#\n",
    "        \n",
    "        ## Begin automated phase of the Dealer's Play and\n",
    "        ## determining the winner of the round.\n",
    "        \n",
    "        if player_value > 21: # above 21, player loses automatically.\n",
    "            player_cash -= bet\n",
    "            losses+=1\n",
    "        elif player_value == 21: # blackjack! Player wins automatically.\n",
    "            player_cash += bet\n",
    "            wins+=1\n",
    "        else:\n",
    "            ## Begin dealer turn phase.\n",
    "            \n",
    "            dealer_value, dealer_hand, bj_deck = dealer_turn(dealer_hand, bj_deck)\n",
    "                \n",
    "            ## End of dealer turn phase\n",
    "            \n",
    "            #------------------------------------------------------------#\n",
    "            \n",
    "            ## Final Compare\n",
    "            \n",
    "            if dealer_value > 21: # dealer above 21, player wins automatically\n",
    "                player_cash += bet\n",
    "                wins+=1\n",
    "            elif dealer_value == 21: # dealer has blackjack, player loses automatically\n",
    "                player_cash -= bet\n",
    "                losses+=1\n",
    "            else: # dealer and player have values less than 21.\n",
    "                if player_value > dealer_value: # player closer to 21, player wins.\n",
    "                    player_cash += bet\n",
    "                    wins+=1\n",
    "                elif player_value < dealer_value: # dealer closer to 21, dealer wins.\n",
    "                    player_cash -= bet\n",
    "                    losses+=1\n",
    "                # Nothing happens if a tie.\n",
    "                \n",
    "        ## End of round formalities\n",
    "        \n",
    "        # Add all cards to the end of deck, and shuffle. \n",
    "        # (Shuffling not usually done in casino blackjack.)\n",
    "        bj_deck.cards += player_hand\n",
    "        bj_deck.cards += dealer_hand\n",
    "        bj_deck.shuffle()\n",
    "            \n",
    "        rounds_played += 1\n",
    "        \n",
    "    # Returns %net gains/losses of playing\n",
    "    return (player_cash - start_cash)/(num_rounds*bet)*100 , wins, losses"
   ]
  },
  {
   "cell_type": "markdown",
   "metadata": {},
   "source": [
    "# Defining Policies\n"
   ]
  },
  {
   "cell_type": "markdown",
   "metadata": {},
   "source": [
    "**Discrete Policy 1**\n",
    "\n",
    "If hand >= 18: player stands.  \n",
    "Else: Player hits."
   ]
  },
  {
   "cell_type": "code",
   "execution_count": 73,
   "metadata": {},
   "outputs": [],
   "source": [
    "def discrete_policy1(player_hand, deck):\n",
    "    player_value = player_eval(player_hand)\n",
    "    \n",
    "    # Implement Discrete Policy\n",
    "    # If hand >= 18, stand. Otherwise, hit.\n",
    "    while player_value < 18:\n",
    "        # hit\n",
    "        player_hand.append(deck.deal())\n",
    "        player_value = player_eval(player_hand)\n",
    "        \n",
    "    return player_value, player_hand, deck"
   ]
  },
  {
   "cell_type": "markdown",
   "metadata": {},
   "source": [
    " **Discrete Policy 2**\n",
    "\n",
    "If hand >= 13: player stands.  \n",
    "Else: Player hits."
   ]
  },
  {
   "cell_type": "code",
   "execution_count": 74,
   "metadata": {},
   "outputs": [],
   "source": [
    "def discrete_policy2(player_hand, deck):\n",
    "    player_value = player_eval(player_hand)\n",
    "    \n",
    "    # Implement Discrete Policy\n",
    "    # If hand >= 13, stand. Otherwise, hit.\n",
    "    while player_value < 13:\n",
    "        # hit\n",
    "        player_hand.append(deck.deal())\n",
    "        player_value = player_eval(player_hand)\n",
    "        \n",
    "    return player_value, player_hand, deck"
   ]
  },
  {
   "cell_type": "markdown",
   "metadata": {},
   "source": [
    "# Simulation and Results"
   ]
  },
  {
   "cell_type": "markdown",
   "metadata": {},
   "source": [
    "**Using Discrete Policy 1** \n",
    "\n",
    "Run 100000 games of 1 round"
   ]
  },
  {
   "cell_type": "code",
   "execution_count": 77,
   "metadata": {},
   "outputs": [
    {
     "name": "stdout",
     "output_type": "stream",
     "text": [
      "Average net return(%): -9.6300\n",
      "Win(%): 41.4980\n"
     ]
    },
    {
     "data": {
      "image/png": "[encoded data removed]",
      "text/plain": [
       "<Figure size 640x480 with 1 Axes>"
      ]
     },
     "metadata": {},
     "output_type": "display_data"
    }
   ],
   "source": [
    "results = {}\n",
    "num_rds = 1\n",
    "num_games = 100000\n",
    "wins=0\n",
    "losses=0\n",
    "ties=0\n",
    "winp=0 #win percentage\n",
    "\n",
    "# Store individual game outcomes here\n",
    "returns = []\n",
    "\n",
    "for i in range(num_games):\n",
    "    result = play_game(discrete_policy1, num_rounds=num_rds)\n",
    "    returns.append(result[0])\n",
    "    wins+=result[1]\n",
    "    losses+=result[2]\n",
    "    \n",
    "\n",
    "\n",
    "winp=wins/(num_games*num_rds) *100\n",
    "lossp=losses/(num_games*num_rds) *100\n",
    "tiep=100-(winp+lossp)\n",
    "\n",
    "\n",
    "# Calculate the average\n",
    "net_avg = sum(returns) / num_games\n",
    "\n",
    "results[num_games] = net_avg\n",
    "\n",
    "print(f\"Average net return(%): {net_avg:.4f}\")\n",
    "\n",
    "print(f\"Win(%): {winp:.4f}\")\n",
    "\n",
    "categories = [\"Win\", \"Tie\", \"Loss\"]\n",
    "percentages = [winp, tiep, lossp]\n",
    "\n",
    "plt.bar(categories, percentages, color=[\"green\", \"gray\", \"red\"], alpha=0.7, edgecolor=\"black\")\n",
    "plt.title(f\"Discrete Policy 1  ({num_games} games × {num_rds} rounds)\")\n",
    "plt.ylabel(\"Percentage of Occurrences (%)\")\n",
    "plt.xlabel(\"Game Outcome\")\n",
    "plt.grid(axis=\"y\", linestyle=\"--\", alpha=0.5)\n",
    "plt.ylim(0, 100)\n",
    "\n",
    "# Display the value on top of each bar\n",
    "for i, v in enumerate(percentages):\n",
    "    plt.text(i, v + 0.5, f\"{v:.1f}%\", ha=\"center\", fontsize=10)\n",
    "\n",
    "plt.show()"
   ]
  },
  {
   "cell_type": "markdown",
   "metadata": {},
   "source": [
    "**Using Discrete Policy 2** \n",
    "\n",
    "Run 100000 games of 1 round"
   ]
  },
  {
   "cell_type": "code",
   "execution_count": 80,
   "metadata": {},
   "outputs": [
    {
     "name": "stdout",
     "output_type": "stream",
     "text": [
      "Average net return(%): -8.3380\n",
      "Win(%): 42.6610\n"
     ]
    },
    {
     "data": {
      "image/png": "[encoded data removed]",
      "text/plain": [
       "<Figure size 640x480 with 1 Axes>"
      ]
     },
     "metadata": {},
     "output_type": "display_data"
    }
   ],
   "source": [
    "results = {}\n",
    "num_rds = 1\n",
    "num_games = 100000\n",
    "wins=0\n",
    "losses=0\n",
    "ties=0\n",
    "winp=0 #win percentage\n",
    "\n",
    "# Store individual game outcomes here\n",
    "returns = []\n",
    "\n",
    "for i in range(num_games):\n",
    "    result = play_game(discrete_policy2, num_rounds=num_rds)\n",
    "    returns.append(result[0])\n",
    "    wins+=result[1]\n",
    "    losses+=result[2]\n",
    "    \n",
    "\n",
    "\n",
    "winp=wins/(num_games*num_rds) *100\n",
    "lossp=losses/(num_games*num_rds) *100\n",
    "tiep=100-(winp+lossp)\n",
    "\n",
    "\n",
    "# Calculate the average\n",
    "net_avg = sum(returns) / num_games\n",
    "\n",
    "results[num_games] = net_avg\n",
    "\n",
    "print(f\"Average net return(%): {net_avg:.4f}\")\n",
    "\n",
    "print(f\"Win(%): {winp:.4f}\")\n",
    "\n",
    "categories = [\"Win\", \"Tie\", \"Loss\"]\n",
    "percentages = [winp, tiep, lossp]\n",
    "\n",
    "plt.bar(categories, percentages, color=[\"green\", \"gray\", \"red\"], alpha=0.7, edgecolor=\"black\")\n",
    "plt.title(f\"Discrete Policy 2  ({num_games} games × {num_rds} rounds)\")\n",
    "plt.ylabel(\"Percentage of Occurrences (%)\")\n",
    "plt.xlabel(\"Game Outcome\")\n",
    "plt.grid(axis=\"y\", linestyle=\"--\", alpha=0.5)\n",
    "plt.ylim(0, 100)\n",
    "\n",
    "# Display the value on top of each bar\n",
    "for i, v in enumerate(percentages):\n",
    "    plt.text(i, v + 0.5, f\"{v:.1f}%\", ha=\"center\", fontsize=10)\n",
    "\n",
    "plt.show()"
   ]
  },
  {
   "cell_type": "markdown",
   "metadata": {},
   "source": [
    "## Result descussion\n",
    "\n",
    "By comparing the results for the two Discrete Policies, we can observe that Discrete Policy 2 performs slightly better overall than Discrete Policy 1.\n",
    "\n",
    "The average net return for Discrete Policy 1 is −9.63% of the betted money, while Discrete Policy 2 achieves a higher value of −8.34%. Similarly, the win rate increases from 41.50% to 42.66%. Although both strategies still yield negative returns—meaning the player continues to lose money in the long run—the improvement of roughly 1.3% in win rate and 1.3% in net return suggests that the second policy introduces small but meaningful optimizations in decision-making.\n",
    "\n",
    "The improvement can be explained by the safer behavior of Discrete Policy 2. Standing on all hands of 13 or higher avoids some unnecessary risks of busting that occur under Policy 1, which continues to hit until reaching 18. This allows the player to preserve more moderate-value hands that still have a chance to beat the dealer, especially when the dealer busts.\n",
    "\n",
    "Overall, both strategies confirm the house advantage inherent in Blackjack, but also demonstrate how even simple strategy modifications can produce measurable differences when analyzed through Monte Carlo simulation.\n",
    "\n",
    "\n",
    "\n",
    "\n",
    "\n",
    "\n",
    "\n"
   ]
  }
 ],
 "metadata": {
  "kernelspec": {
   "display_name": "Python 3",
   "language": "python",
   "name": "python3"
  },
  "language_info": {
   "codemirror_mode": {
    "name": "ipython",
    "version": 3
   },
   "file_extension": ".py",
   "mimetype": "text/x-python",
   "name": "python",
   "nbconvert_exporter": "python",
   "pygments_lexer": "ipython3",
   "version": "3.13.0"
  }
 },
 "nbformat": 4,
 "nbformat_minor": 2
}

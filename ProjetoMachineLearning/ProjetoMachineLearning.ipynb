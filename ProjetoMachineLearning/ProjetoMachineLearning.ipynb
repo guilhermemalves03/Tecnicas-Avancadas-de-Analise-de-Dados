{
 "cells": [
  {
   "cell_type": "markdown",
   "id": "37a04407",
   "metadata": {},
   "source": [
    "# Machine Learning Project: Stock Prediction using Machine Learning"
   ]
  },
  {
   "cell_type": "markdown",
   "id": "7da799cb",
   "metadata": {},
   "source": [
    "In this project we will predict the value of PayPal stock using Machine learning"
   ]
  },
  {
   "cell_type": "markdown",
   "id": "d7455f8c",
   "metadata": {},
   "source": [
    "# PayPal Stock Prediction using Support Vector Machine"
   ]
  },
  {
   "cell_type": "markdown",
   "id": "fd91c911",
   "metadata": {},
   "source": [
    "The idea of Support Vector Machine is by finding a hyperplane to divide the data into groups, this will classify if the stock is going up or down based on historic data."
   ]
  },
  {
   "cell_type": "markdown",
   "id": "ba3f26ac",
   "metadata": {},
   "source": [
    "## Imports and Data Cleaning"
   ]
  },
  {
   "cell_type": "code",
   "execution_count": 2,
   "id": "3ff00650",
   "metadata": {},
   "outputs": [],
   "source": [
    "import matplotlib.pyplot as plt\n",
    "import pandas as pd\n",
    "import numpy as np\n",
    "import sklearn.svm as svc\n",
    "from sklearn.metrics import accuracy_score\n",
    "\n",
    "import warnings\n",
    "warnings.filterwarnings(\"ignore\")"
   ]
  },
  {
   "cell_type": "markdown",
   "id": "a1f97f95",
   "metadata": {},
   "source": [
    "Now we download the Standard & Poor 500 dataset (or keep it updated)"
   ]
  },
  {
   "cell_type": "code",
   "execution_count": 7,
   "id": "b6d592c2",
   "metadata": {},
   "outputs": [
    {
     "name": "stdout",
     "output_type": "stream",
     "text": [
      "Path to dataset files: /Users/guilhermealves/.cache/kagglehub/datasets/yash16jr/s-and-p500-daily-update-dataset/versions/275\n"
     ]
    }
   ],
   "source": [
    "import kagglehub\n",
    "\n",
    "# Download latest version\n",
    "path = kagglehub.dataset_download(\"yash16jr/s-and-p500-daily-update-dataset\")\n",
    "\n",
    "print(\"Path to dataset files:\", path)"
   ]
  },
  {
   "cell_type": "code",
   "execution_count": 8,
   "id": "34f53eef",
   "metadata": {},
   "outputs": [
    {
     "name": "stdout",
     "output_type": "stream",
     "text": [
      "['SnP_daily_update.csv']\n"
     ]
    }
   ],
   "source": [
    "import os\n",
    "\n",
    "path = \"/Users/guilhermealves/.cache/kagglehub/datasets/yash16jr/s-and-p500-daily-update-dataset/versions/275\"\n",
    "\n",
    "print(os.listdir(path))"
   ]
  },
  {
   "cell_type": "code",
   "execution_count": null,
   "id": "1f53d288",
   "metadata": {},
   "outputs": [],
   "source": [
    "\n",
    "df = pd.read_csv(\n",
    "    '/Users/guilhermealves/.cache/kagglehub/datasets/yash16jr/s-and-p500-daily-update-dataset/versions/275/SnP_daily_update.csv',\n",
    "    header=[0, 1]  \n",
    ")\n"
   ]
  },
  {
   "cell_type": "code",
   "execution_count": 16,
   "id": "ca1ae70f",
   "metadata": {},
   "outputs": [
    {
     "name": "stdout",
     "output_type": "stream",
     "text": [
      "        Price      Close                                                      \\\n",
      "       Ticker          A      AAPL ABBV ABNB        ABT      ACGL        ACN   \n",
      "0        Date        NaN       NaN  NaN  NaN        NaN       NaN        NaN   \n",
      "1  2010-01-04  19.891678  6.424604  NaN  NaN  18.414782  7.601905  31.492178   \n",
      "2  2010-01-05  19.675604  6.435713  NaN  NaN  18.266010  7.576549  31.686796   \n",
      "3  2010-01-06  19.605700  6.333346  NaN  NaN  18.367451  7.543795  32.023655   \n",
      "4  2010-01-07  19.580280  6.321635  NaN  NaN  18.519613  7.499420  31.993717   \n",
      "\n",
      "                         ...     Volume                                        \\\n",
      "        ADBE        ADI  ...         WY       WYNN        XEL         XOM XYL   \n",
      "0        NaN        NaN  ...        NaN        NaN        NaN         NaN NaN   \n",
      "1  37.090000  21.975159  ...  1832400.0  4741400.0  2670400.0  27809100.0 NaN   \n",
      "2  37.700001  21.940468  ...  1724500.0  5644300.0  4321400.0  30174700.0 NaN   \n",
      "3  37.619999  21.898842  ...  2254400.0  2738800.0  2164500.0  35044700.0 NaN   \n",
      "4  36.889999  21.725368  ...  1420700.0  2388500.0  3041700.0  27192100.0 NaN   \n",
      "\n",
      "                                           \n",
      "  XYZ        YUM        ZBH      ZBRA ZTS  \n",
      "0 NaN        NaN        NaN       NaN NaN  \n",
      "1 NaN  2962274.0   805872.0  168800.0 NaN  \n",
      "2 NaN  3298757.0  1769643.0  168800.0 NaN  \n",
      "3 NaN  4178981.0  1315619.0  385300.0 NaN  \n",
      "4 NaN  2452472.0  1734005.0  183600.0 NaN  \n",
      "\n",
      "[5 rows x 2516 columns]\n"
     ]
    }
   ],
   "source": [
    "print(df.head())"
   ]
  },
  {
   "cell_type": "code",
   "execution_count": 21,
   "id": "978eca96",
   "metadata": {},
   "outputs": [
    {
     "name": "stdout",
     "output_type": "stream",
     "text": [
      "[['Close', 'High', 'Low', 'Open', 'Price', 'Volume'], ['A', 'AAPL', 'ABBV', 'ABNB', 'ABT', 'ACGL', 'ACN', 'ADBE', 'ADI', 'ADM', 'ADP', 'ADSK', 'AEE', 'AEP', 'AES', 'AFL', 'AIG', 'AIZ', 'AJG', 'AKAM', 'ALB', 'ALGN', 'ALL', 'ALLE', 'AMAT', 'AMCR', 'AMD', 'AME', 'AMGN', 'AMP', 'AMT', 'AMZN', 'ANET', 'AON', 'AOS', 'APA', 'APD', 'APH', 'APO', 'APP', 'APTV', 'ARE', 'ATO', 'AVB', 'AVGO', 'AVY', 'AWK', 'AXON', 'AXP', 'AZO', 'BA', 'BAC', 'BALL', 'BAX', 'BBY', 'BDX', 'BEN', 'BF-B', 'BG', 'BIIB', 'BK', 'BKNG', 'BKR', 'BLDR', 'BLK', 'BMY', 'BR', 'BRK-B', 'BRO', 'BSX', 'BX', 'BXP', 'C', 'CAG', 'CAH', 'CARR', 'CAT', 'CB', 'CBOE', 'CBRE', 'CCI', 'CCL', 'CDNS', 'CDW', 'CEG', 'CF', 'CFG', 'CHD', 'CHRW', 'CHTR', 'CI', 'CINF', 'CL', 'CLX', 'CMCSA', 'CME', 'CMG', 'CMI', 'CMS', 'CNC', ...]]\n"
     ]
    }
   ],
   "source": [
    "print(df.columns.levels)"
   ]
  },
  {
   "cell_type": "code",
   "execution_count": 22,
   "id": "af1e457c",
   "metadata": {},
   "outputs": [],
   "source": [
    "df_pypl = df['Close']['PYPL']\n",
    "df_pypl_volume = df['Volume']['PYPL']"
   ]
  },
  {
   "cell_type": "code",
   "execution_count": null,
   "id": "7c05be5c",
   "metadata": {},
   "outputs": [],
   "source": []
  }
 ],
 "metadata": {
  "kernelspec": {
   "display_name": "Python 3",
   "language": "python",
   "name": "python3"
  },
  "language_info": {
   "codemirror_mode": {
    "name": "ipython",
    "version": 3
   },
   "file_extension": ".py",
   "mimetype": "text/x-python",
   "name": "python",
   "nbconvert_exporter": "python",
   "pygments_lexer": "ipython3",
   "version": "3.9.6"
  }
 },
 "nbformat": 4,
 "nbformat_minor": 5
}
